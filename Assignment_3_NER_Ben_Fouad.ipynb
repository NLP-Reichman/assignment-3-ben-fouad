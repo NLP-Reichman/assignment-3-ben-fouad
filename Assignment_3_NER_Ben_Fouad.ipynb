{
  "cells": [
    {
      "cell_type": "markdown",
      "metadata": {
        "id": "k-WJBimYDLJS"
      },
      "source": [
        "# Natural Language Processing\n",
        "![](https://i.imgur.com/qkg2E2D.png)\n",
        "\n",
        "## Assignment 002 - NER Tagger\n",
        "\n",
        "> Notebook by:\n",
        "> - NLP Course Staff\n",
        "\n",
        "## Revision History\n",
        "\n",
        "| Version | Date       | User        | Content / Changes                                                   |\n",
        "|---------|------------|-------------|---------------------------------------------------------------------|\n",
        "| 0.1.000 | 21/05/2024 | course staff| First version                                                       |\n",
        "| 0.1.001 | 23/05/2024 | course staff| Updated instructions for `Vocab` class to allow flexible special tokens definition |"
      ]
    },
    {
      "cell_type": "markdown",
      "metadata": {
        "id": "Z-fCqGh9ybgm"
      },
      "source": [
        "## Overview\n",
        "In this assignment, you will build a complete training and testing pipeline for a neural sequential tagger for named entities using LSTM.\n",
        "\n",
        "## Dataset\n",
        "You will work with the ReCoNLL 2003 dataset, a corrected version of the [CoNLL 2003 dataset](https://www.clips.uantwerpen.be/conll2003/ner/):\n",
        "\n",
        "**Click on those links so you have access to the data!**\n",
        "- [Train data](https://drive.google.com/file/d/1CqEGoLPVKau3gvVrdG6ORyfOEr1FSZGf/view?usp=sharing)\n",
        "\n",
        "- [Dev data](https://drive.google.com/file/d/1rdUida-j3OXcwftITBlgOh8nURhAYUDw/view?usp=sharing)\n",
        "\n",
        "- [Test data](https://drive.google.com/file/d/137Ht40OfflcsE6BIYshHbT5b2iIJVaDx/view?usp=sharing)\n",
        "\n",
        "As you will see, the annotated texts are labeled according to the `IOB` annotation scheme (more on this below), for 3 entity types: Person, Organization, Location.\n",
        "\n",
        "## Your Implementation\n",
        "\n",
        "Please create a local copy of this template Colab's Notebook:\n",
        "\n",
        "[![Open In Colab](https://colab.research.google.com/assets/colab-badge.svg)](https://colab.research.google.com/drive/1VVtBtlwZZnxQWdluNVkDgTMvDKVaqDOM?usp=sharing)\n",
        "\n",
        "The assignment's instructions are there; follow the notebook.\n",
        "\n",
        "## Submission\n",
        "- **Notebook Link**: Add the URL to your assignment's notebook in the `notebook_link.txt` file, following the format provided in the example.\n",
        "- **Access**: Ensure the link has edit permissions enabled to allow modifications if needed.\n",
        "- **Deadline**: <font color='green'>06/06/2024</font>.\n",
        "- **Platform**: Continue using GitHub for submissions. Push your project to the team repository and monitor the test results under the actions section.\n",
        "\n",
        "Good Luck 🤗\n"
      ]
    },
    {
      "cell_type": "markdown",
      "metadata": {
        "id": "VOy8IghquR6x"
      },
      "source": [
        "<!-- ## NER schemes:  \n",
        "\n",
        "> `IO`: is the simplest scheme that can be applied to this task. In this scheme, each token from the dataset is assigned one of two tags: an inside tag (`I`) and an outside tag (`O`). The `I` tag is for named entities, whereas the `O` tag is for normal words. This scheme has a limitation, as it cannot correctly encode consecutive entities of the same type.\n",
        "\n",
        "> `IOB`: This scheme is also referred to in the literature as BIO and has been adopted by the Conference on Computational Natural Language Learning (CoNLL) [1]. It assigns a tag to each word in the text, determining whether it is the beginning (`B`) of a known named entity, inside (`I`) it, or outside (`O`) of any known named entities.\n",
        "\n",
        "> `IOE`: This scheme works nearly identically to `IOB`, but it indicates the end of the entity (`E` tag) instead of its beginning.\n",
        "\n",
        "> `IOBES`: An alternative to the IOB scheme is `IOBES`, which increases the amount of information related to the boundaries of named entities. In addition to tagging words at the beginning (`B`), inside (`I`), end (`E`), and outside (`O`) of a named entity. It also labels single-token entities with the tag `S`.\n",
        "\n",
        "> `BI`: This scheme tags entities in a similar method to `IOB`. Additionally, it labels the beginning of non-entity words with the tag B-O and the rest as I-O.\n",
        "\n",
        "> `IE`: This scheme works exactly like `IOE` with the distinction that it labels the end of non-entity words with the tag `E-O` and the rest as `I-O`.\n",
        "\n",
        "> `BIES`: This scheme encodes the entities similar to `IOBES`. In addition, it also encodes the non-entity words using the same method. It uses `B-O` to tag the beginning of non-entity words, `I-O` to tag the inside of non-entity words, and `S-O` for single non-entity tokens that exist between two entities. -->\n",
        "\n",
        "\n",
        "## NER Schemes\n",
        "\n",
        "### IO\n",
        "- **Description**: The simplest scheme for named entity recognition (NER).\n",
        "- **Tags**:\n",
        "  - `I`: Inside a named entity.\n",
        "  - `O`: Outside any named entity.\n",
        "- **Limitation**: Cannot correctly encode consecutive entities of the same type.\n",
        "\n",
        "### IOB (BIO)\n",
        "- **Description**: Adopted by the Conference on Computational Natural Language Learning (CoNLL).\n",
        "- **Tags**:\n",
        "  - `B`: Beginning of a named entity.\n",
        "  - `I`: Inside a named entity.\n",
        "  - `O`: Outside any named entity.\n",
        "- **Advantage**: Can encode the boundaries of consecutive entities.\n",
        "\n",
        "### IOE\n",
        "- **Description**: Similar to IOB, but indicates the end of an entity.\n",
        "- **Tags**:\n",
        "  - `I`: Inside a named entity.\n",
        "  - `O`: Outside any named entity.\n",
        "  - `E`: End of a named entity.\n",
        "- **Advantage**: Focuses on the end boundary of entities.\n",
        "\n",
        "### IOBES\n",
        "- **Description**: An extension of IOB with additional boundary information.\n",
        "- **Tags**:\n",
        "  - `B`: Beginning of a named entity.\n",
        "  - `I`: Inside a named entity.\n",
        "  - `O`: Outside any named entity.\n",
        "  - `E`: End of a named entity.\n",
        "  - `S`: Single-token named entity.\n",
        "- **Advantage**: Provides more detailed boundary information for named entities.\n",
        "\n",
        "### BI\n",
        "- **Description**: Tags entities similarly to IOB and labels the beginning of non-entity words.\n",
        "- **Tags**:\n",
        "  - `B`: Beginning of a named entity.\n",
        "  - `I`: Inside a named entity.\n",
        "  - `B-O`: Beginning of a non-entity word.\n",
        "  - `I-O`: Inside a non-entity word.\n",
        "- **Advantage**: Distinguishes the beginning of non-entity sequences.\n",
        "\n",
        "### IE\n",
        "- **Description**: Similar to IOE but for non-entity words.\n",
        "- **Tags**:\n",
        "  - `I`: Inside a named entity.\n",
        "  - `O`: Outside any named entity.\n",
        "  - `E`: End of a named entity.\n",
        "  - `E-O`: End of a non-entity word.\n",
        "  - `I-O`: Inside a non-entity word.\n",
        "- **Advantage**: Highlights the end of non-entity sequences.\n",
        "\n",
        "### BIES\n",
        "- **Description**: Encodes both entities and non-entity words using the IOBES method.\n",
        "- **Tags**:\n",
        "  - `B`: Beginning of a named entity.\n",
        "  - `I`: Inside a named entity.\n",
        "  - `O`: Outside any named entity.\n",
        "  - `E`: End of a named entity.\n",
        "  - `S`: Single-token named entity.\n",
        "  - `B-O`: Beginning of a non-entity word.\n",
        "  - `I-O`: Inside a non-entity word.\n",
        "  - `S-O`: Single non-entity token.\n",
        "- **Advantage**: Comprehensive encoding for both entities and non-entities.\n",
        "\n",
        "\n"
      ]
    },
    {
      "cell_type": "code",
      "execution_count": 1,
      "metadata": {
        "id": "bRwONXCzi28v"
      },
      "outputs": [
        {
          "name": "stdout",
          "output_type": "stream",
          "text": [
            "mkdir: data: File exists\n"
          ]
        }
      ],
      "source": [
        "!mkdir data\n",
        "# Fetch data\n",
        "# train_link = 'https://drive.google.com/file/d/1CqEGoLPVKau3gvVrdG6ORyfOEr1FSZGf/view?usp=sharing'\n",
        "# dev_link   = 'https://drive.google.com/file/d/1rdUida-j3OXcwftITBlgOh8nURhAYUDw/view?usp=sharing'\n",
        "# test_link  = 'https://drive.google.com/file/d/137Ht40OfflcsE6BIYshHbT5b2iIJVaDx/view?usp=sharing'\n",
        "\n",
        "!wget -q --no-check-certificate 'https://docs.google.com/uc?export=download&id=1CqEGoLPVKau3gvVrdG6ORyfOEr1FSZGf' -O data/train.txt\n",
        "!wget -q --no-check-certificate 'https://docs.google.com/uc?export=download&id=1rdUida-j3OXcwftITBlgOh8nURhAYUDw' -O data/dev.txt\n",
        "!wget -q --no-check-certificate 'https://docs.google.com/uc?export=download&id=137Ht40OfflcsE6BIYshHbT5b2iIJVaDx' -O data/test.txt\n"
      ]
    },
    {
      "cell_type": "code",
      "execution_count": 2,
      "metadata": {
        "id": "5QNUSyEwvWqn"
      },
      "outputs": [],
      "source": [
        "# Any additional needed libraries\n",
        "# !pip install --q"
      ]
    },
    {
      "cell_type": "code",
      "execution_count": 3,
      "metadata": {
        "id": "3enPCGBF8FlX"
      },
      "outputs": [],
      "source": [
        "# Standard Library Imports\n",
        "import os\n",
        "import copy\n",
        "import random\n",
        "import warnings\n",
        "from collections import defaultdict\n",
        "from typing import Optional\n",
        "\n",
        "# ML\n",
        "import numpy as np\n",
        "import scipy as sp\n",
        "import pandas as pd\n",
        "\n",
        "# Visual\n",
        "import matplotlib\n",
        "import seaborn as sns\n",
        "from tqdm import tqdm\n",
        "from tabulate import tabulate\n",
        "import matplotlib.pyplot as plt\n",
        "from IPython.display import display\n",
        "\n",
        "# DL\n",
        "import torch as th\n",
        "import torch.nn as nn\n",
        "from torch.optim import Adam\n",
        "from torch.utils.data import DataLoader, Dataset\n",
        "\n",
        "# Metrics\n",
        "from sklearn import metrics\n",
        "from sklearn.metrics import accuracy_score , roc_auc_score, classification_report, confusion_matrix, precision_recall_fscore_support\n"
      ]
    },
    {
      "cell_type": "code",
      "execution_count": 4,
      "metadata": {
        "id": "ZUM4WJ9PwF0x"
      },
      "outputs": [],
      "source": [
        "SEED = 42\n",
        "# Set the random seed for Python\n",
        "random.seed(SEED)\n",
        "\n",
        "# Set the random seed for numpy\n",
        "np.random.seed(SEED)\n",
        "\n",
        "# Set the random seed for pytorch\n",
        "th.manual_seed(SEED)\n",
        "\n",
        "# If using CUDA (for GPU operations)\n",
        "th.cuda.manual_seed(SEED)\n",
        "\n",
        "# Set up the device\n",
        "# TO DO ----------------------------------------------------------------------\n",
        "DEVICE = \"cuda\" if th.cuda.is_available() else \"cpu\"\n",
        "# TO DO ----------------------------------------------------------------------\n",
        "# assert DEVICE == \"cuda\"\n",
        "\n",
        "DataType = list[tuple[list[str],list[str]]]"
      ]
    },
    {
      "cell_type": "markdown",
      "metadata": {
        "id": "f-1shPaJ0z1B"
      },
      "source": [
        "# Part 1 - Dataset Preparation"
      ]
    },
    {
      "cell_type": "markdown",
      "metadata": {
        "id": "5ul2Y3vuPoV8"
      },
      "source": [
        "## Step 1: Read Data\n",
        "Write a function for reading the data from a single file (of the ones that are provided above).   \n",
        "- The function recieves a filepath\n",
        "- The funtion encodes every sentence individually using a pair of lists, one list contains the words and one list contains the tags.\n",
        "- Each list pair will be added to a general list (data), which will be returned back from the function.\n",
        "\n",
        "Example output:\n",
        "```\n",
        "[\n",
        "  (['At','Trent','Bridge',':'],['O','B-LOC','I-LOC ','O']),\n",
        "  ([...],[...]),\n",
        "  ...\n",
        "]\n",
        "```"
      ]
    },
    {
      "cell_type": "code",
      "execution_count": 5,
      "metadata": {
        "id": "prgzgtt8Jw4Y"
      },
      "outputs": [],
      "source": [
        "def read_data(filepath:str) -> DataType:\n",
        "    \"\"\"\n",
        "    Read data from a single file.\n",
        "    The function recieves a filepath\n",
        "    The funtion encodes every sentence using a pair of lists, one list contains the words and one list contains the tags.\n",
        "    :param filepath: path to the file\n",
        "    :return: data as a list of tuples\n",
        "    \"\"\"\n",
        "    data = []\n",
        "    with open(filepath, 'r') as file:\n",
        "        words, tags = [], []\n",
        "        for line in file:\n",
        "            if line == '\\n':\n",
        "                data.append((words, tags))\n",
        "                words, tags = [], []\n",
        "            else:\n",
        "                word, tag = line.strip().split()\n",
        "                words.append(word)\n",
        "                tags.append(tag)\n",
        "    return data"
      ]
    },
    {
      "cell_type": "code",
      "execution_count": 6,
      "metadata": {
        "colab": {
          "base_uri": "https://localhost:8080/"
        },
        "id": "yURR0GmX2i8M",
        "outputId": "3d1a4449-c417-4bf4-f086-0c982fbb3c9f"
      },
      "outputs": [],
      "source": [
        "train = read_data(\"data/train.txt\")\n",
        "dev = read_data(\"data/dev.txt\")\n",
        "test = read_data(\"data/test.txt\")"
      ]
    },
    {
      "cell_type": "markdown",
      "metadata": {
        "id": "IuGwk6OwRWGS"
      },
      "source": [
        "## Step 2: Create Vocab\n",
        "\n",
        "The `Vocab` class will serve as a dictionary that maps words and tags into IDs. Ensure that you include special tokens to handle out-of-vocabulary words and padding.\n",
        "\n",
        "### Your Task\n",
        "1. **Define Special Tokens**: Define special tokens such as `PAD_TOKEN` and `UNK_TOKEN` and assign them unique IDs.\n",
        "2. **Initialize Dictionaries**: Populate the word and tag dictionaries based on the training set.\n",
        "\n",
        "*Note: You may change the `Vocab` class as needed.*"
      ]
    },
    {
      "cell_type": "code",
      "execution_count": 7,
      "metadata": {
        "id": "6rKIB5o_vQO8"
      },
      "outputs": [],
      "source": [
        "# Initinize ids for special tokens\n",
        "PAD_TOKEN = 0\n",
        "UNK_TOKEN = 1\n",
        "\n",
        "class Vocab:\n",
        "    def __init__(self, train: DataType):\n",
        "        \"\"\"\n",
        "        Initialize a Vocab instance.\n",
        "        :param train: train data\n",
        "        \"\"\"\n",
        "        self.word2id = {\"__unk__\": UNK_TOKEN, \"__pad__\": PAD_TOKEN}\n",
        "        self.id2word = {UNK_TOKEN: \"__unk__\", PAD_TOKEN: \"__pad__\"}\n",
        "        self.n_words = 2\n",
        "\n",
        "        self.tag2id = {}\n",
        "        self.id2tag = {}\n",
        "        self.n_tags = 0\n",
        "\n",
        "        # Initialize dictionaries based on the training set\n",
        "        for words, tags in train:\n",
        "            for word in words:\n",
        "                if word not in self.word2id:\n",
        "                    self.word2id[word] = self.n_words\n",
        "                    self.id2word[self.n_words] = word\n",
        "                    self.n_words += 1\n",
        "            for tag in tags:\n",
        "                if tag not in self.tag2id:\n",
        "                    self.tag2id[tag] = self.n_tags\n",
        "                    self.id2tag[self.n_tags] = tag\n",
        "                    self.n_tags += 1\n",
        "\n",
        "    def __len__(self):\n",
        "        return self.n_words\n",
        "\n",
        "    def index_tags(self, tags: list[str]) -> list[int]:\n",
        "        \"\"\"\n",
        "        Convert tags to Ids.\n",
        "        :param tags: list of tags\n",
        "        :return: list of Ids\n",
        "        \"\"\"\n",
        "        tag_indexes = [self.tag2id[t] for t in tags]\n",
        "        return tag_indexes\n",
        "\n",
        "    def tag_indices(self, indices: list[int]) -> list[str]:\n",
        "        \"\"\"\n",
        "        Convert indices to tags.\n",
        "        :param indices: list of indices\n",
        "        :return: list of tags\n",
        "        \"\"\"\n",
        "        tags = [self.id2tag[i] for i in indices]\n",
        "        return tags\n",
        "\n",
        "    def index_words(self, words: list[str]) -> list[int]:\n",
        "        \"\"\"\n",
        "        Convert words to Ids.\n",
        "        :param words: list of words\n",
        "        :return: list of Ids\n",
        "        \"\"\"\n",
        "        word_indexes = [self.word2id[w] if w in self.word2id else self.word2id[\"__unk__\"] for w in words]\n",
        "        return word_indexes\n",
        "\n",
        "    def word_indices(self, indices: list[int]) -> list[str]:\n",
        "        \"\"\"\n",
        "        Convert indices to words.\n",
        "        :param indices: list of indices\n",
        "        :return: list of words\n",
        "        \"\"\"\n",
        "        words = [self.id2word[i] for i in indices]\n",
        "        return words"
      ]
    },
    {
      "cell_type": "code",
      "execution_count": 8,
      "metadata": {
        "colab": {
          "base_uri": "https://localhost:8080/"
        },
        "id": "0H2D2zSR4GQ9",
        "outputId": "9c16a220-07c5-40f0-e5f0-b7554d19dc1b"
      },
      "outputs": [],
      "source": [
        "vocab = Vocab(train)"
      ]
    },
    {
      "cell_type": "markdown",
      "metadata": {
        "id": "iDKYryfKfNdh"
      },
      "source": [
        "## Step 3: Prepare Data\n",
        "Write a function `prepare_data` that takes one of the [train, dev, test] and the `Vocab` instance, for converting each pair of (words, tags) to a pair of indexes. Additionally, the function should pad the sequences to the maximum length sequence **of the given split**.\n",
        "\n",
        "Note: Vocabulary is based only on the train set.\n",
        "\n",
        "### Your Task\n",
        "1. Convert each pair of (words, tags) to a pair of indexes using the Vocab instance.\n",
        "2. Pad the sequences to the maximum length of the sequences in the given split."
      ]
    },
    {
      "cell_type": "code",
      "execution_count": 9,
      "metadata": {
        "id": "noIY3zWKvhBd"
      },
      "outputs": [],
      "source": [
        "def prepare_data(data: DataType, vocab: Vocab):\n",
        "    data_sequences = []\n",
        "    max_len = max([len(words) for words, _ in data])\n",
        "    for words, tags in data:\n",
        "        words_ids = vocab.index_words(words)\n",
        "        tags_ids = vocab.index_tags(tags)\n",
        "        # Padding\n",
        "        assert len(words_ids) == len(tags_ids), \"Words and tags should have the same length\"\n",
        "        padding_len = max_len - len(words_ids)\n",
        "        words_ids += [PAD_TOKEN] * padding_len\n",
        "        tags_ids += [PAD_TOKEN] * padding_len\n",
        "        data_sequences.append((words_ids, tags_ids))\n",
        "    \n",
        "    return data_sequences"
      ]
    },
    {
      "cell_type": "code",
      "execution_count": 10,
      "metadata": {
        "id": "Y4mryWuq6rox"
      },
      "outputs": [],
      "source": [
        "train_sequences = prepare_data(train, vocab)\n",
        "dev_sequences = prepare_data(dev, vocab)\n",
        "test_sequences = prepare_data(test, vocab)"
      ]
    },
    {
      "cell_type": "markdown",
      "metadata": {
        "id": "aSR-qJnIQGUJ"
      },
      "source": [
        "### Your Task\n",
        "Print the number of OOV in dev and test sets:"
      ]
    },
    {
      "cell_type": "code",
      "execution_count": 11,
      "metadata": {
        "id": "QaXaJe5wrGhl"
      },
      "outputs": [],
      "source": [
        "def count_oov(sequences) -> int:\n",
        "    \"\"\"\n",
        "    Count the number of OOV words.\n",
        "    :param sequences: list of sequences\n",
        "    :return: number of OOV words\n",
        "    \"\"\"\n",
        "    oov = 0\n",
        "    for words, _ in sequences:\n",
        "        oov += sum([1 for w in words if w == UNK_TOKEN])\n",
        "    return oov if oov > 0 else -1"
      ]
    },
    {
      "cell_type": "markdown",
      "metadata": {
        "id": "QxC7SyD0EaMF"
      },
      "source": [
        "## Step 4: Dataloaders\n",
        "Create dataloaders for each split in the dataset. They should return the samples as Tensors.\n",
        "\n",
        "**Hint** - you can create a Dataset to support this part.\n",
        "\n",
        "For the training set, use shuffling, and for the dev and test, not."
      ]
    },
    {
      "cell_type": "code",
      "execution_count": 12,
      "metadata": {
        "id": "vpMZ1C15t4Ra"
      },
      "outputs": [],
      "source": [
        "class NERDataset(Dataset):\n",
        "    def __init__(self, data: list[tuple[list[int], list[int]]]):\n",
        "        \"\"\"\n",
        "        Initialize a NERDataset instance.\n",
        "        :param data: list of sequences\n",
        "        \"\"\"\n",
        "        self.data = data\n",
        "\n",
        "    def __len__(self):\n",
        "        return len(self.data)\n",
        "\n",
        "    def __getitem__(self, idx):\n",
        "        # Get the words and tags, and convert them to PyTorch tensors\n",
        "        words, tags = self.data[idx]\n",
        "        words_tensor = th.tensor(words)\n",
        "        tags_tensor = th.tensor(tags)\n",
        "        # convert tags to one-hot encoding\n",
        "        tags_tensor = th.nn.functional.one_hot(tags_tensor, num_classes=vocab.n_tags).float()\n",
        "        return words_tensor.to(DEVICE), tags_tensor.to(DEVICE)\n",
        "\n",
        "def prepare_data_loader(sequences, batch_size: int, train: bool = True):\n",
        "    \"\"\"\n",
        "    Create a dataloader from a list of sequences.\n",
        "    :param sequences: list of sequences\n",
        "    :param batch_size: batch size\n",
        "    :param train: whether to shuffle the dataloader or not\n",
        "    :return: dataloader\n",
        "    \"\"\"\n",
        "    dataloader = DataLoader(NERDataset(sequences), batch_size=batch_size, shuffle=train)\n",
        "    return dataloader"
      ]
    },
    {
      "cell_type": "code",
      "execution_count": 13,
      "metadata": {
        "colab": {
          "base_uri": "https://localhost:8080/"
        },
        "id": "YWhK-O-suA93",
        "outputId": "cc7dfd7d-696f-4d63-8923-5a64ea851e4d"
      },
      "outputs": [],
      "source": [
        "BATCH_SIZE = 16\n",
        "dl_train = prepare_data_loader(train_sequences, batch_size=BATCH_SIZE)\n",
        "dl_dev = prepare_data_loader(dev_sequences, batch_size=BATCH_SIZE, train=False)\n",
        "dl_test = prepare_data_loader(test_sequences, batch_size=BATCH_SIZE, train=False)"
      ]
    },
    {
      "cell_type": "markdown",
      "metadata": {
        "id": "aUsgtdW869JH"
      },
      "source": [
        "# Part 2 - NER Model Training"
      ]
    },
    {
      "cell_type": "markdown",
      "metadata": {
        "id": "UccfiRRtiEet"
      },
      "source": [
        "## Step 1: Implement Model\n",
        "\n",
        "Write NERNet, a PyTorch Module for labeling words with NER tags.\n",
        "\n",
        "> `input_size`: the size of the vocabulary  \n",
        "`embedding_size`: the size of the embeddings  \n",
        "`hidden_size`: the LSTM hidden size  \n",
        "`output_size`: the number tags we are predicting for  \n",
        "`n_layers`: the number of layers we want to use in LSTM  \n",
        "`directions`: could 1 or 2, indicating unidirectional or bidirectional LSTM, respectively  \n",
        "\n",
        "<br>  \n",
        "\n",
        "The input for your forward function should be a single sentence tensor.\n",
        "\n",
        "*Note: the embeddings in this section are learned embedding. That means that you don't need to use pretrained embedding like the one used in the last excersie. You will use them in part 5.*\n",
        "\n",
        "*Note: You may change the NERNet class.*"
      ]
    },
    {
      "cell_type": "code",
      "execution_count": 14,
      "metadata": {
        "id": "Ke1LyUQNyQaM"
      },
      "outputs": [],
      "source": [
        "class NERNet(nn.Module):\n",
        "    def __init__(self, input_size: int, embedding_size: int, hidden_size: int, output_size: int, n_layers: int, directions: int):\n",
        "        \"\"\"\n",
        "        Initialize a NERNet instance.\n",
        "        :param input_size: the size of the vocabulary\n",
        "        :param embedding_size: the size of the embeddings\n",
        "        :param hidden_size: the LSTM hidden size\n",
        "        :param output_size: the number tags we are predicting for\n",
        "        :param n_layers: the number of layers we want to use in LSTM\n",
        "        :param directions: could be 1 or 2, indicating unidirectional or bidirectional LSTM, respectively\n",
        "        \"\"\"\n",
        "        super(NERNet, self).__init__()\n",
        "        self.embedding = nn.Embedding(input_size, embedding_size)\n",
        "        self.lstm = nn.LSTM(embedding_size, hidden_size, n_layers, bidirectional=(directions == 2), batch_first=True)\n",
        "        self.fc = nn.Linear(hidden_size * directions, output_size)\n",
        "        self.softmax = nn.Softmax(dim=2)\n",
        "\n",
        "    def forward(self, input_sentence):\n",
        "        embeddings = self.embedding(input_sentence)\n",
        "        lstm_out, _ = self.lstm(embeddings)   \n",
        "        output = self.fc(lstm_out)\n",
        "        output = self.softmax(output)\n",
        "        return output"
      ]
    },
    {
      "cell_type": "code",
      "execution_count": 15,
      "metadata": {},
      "outputs": [
        {
          "data": {
            "text/plain": [
              "NERNet(\n",
              "  (embedding): Embedding(7163, 300)\n",
              "  (lstm): LSTM(300, 800, num_layers=2, batch_first=True)\n",
              "  (fc): Linear(in_features=800, out_features=7, bias=True)\n",
              "  (softmax): Softmax(dim=2)\n",
              ")"
            ]
          },
          "execution_count": 15,
          "metadata": {},
          "output_type": "execute_result"
        }
      ],
      "source": [
        "model = NERNet(vocab.n_words, embedding_size=300, hidden_size=800, output_size=vocab.n_tags, n_layers=2, directions=1)\n",
        "model.to(DEVICE)"
      ]
    },
    {
      "cell_type": "markdown",
      "metadata": {
        "id": "dEGSQdeUkTP8"
      },
      "source": [
        "## Step 2: Training Loop\n",
        "\n",
        "Write a training loop, which takes a model (instance of NERNet), number of epochs to train on, and the train&dev datasets.  \n",
        "\n",
        "The function will return the `loss` and `accuracy` durring training.  \n",
        "(If you're using a different/additional metrics, return them too)\n",
        "\n",
        "The loss is always CrossEntropyLoss and the optimizer is always Adam.\n",
        "Make sure to use `tqdm` while iterating on `n_epochs`.\n"
      ]
    },
    {
      "cell_type": "code",
      "execution_count": 16,
      "metadata": {
        "id": "avkHfjT3k0HM"
      },
      "outputs": [],
      "source": [
        "def train_loop(model: NERNet, n_epochs: int, dataloader_train, dataloader_dev):\n",
        "    \"\"\"\n",
        "    Train a model.\n",
        "    :param model: model instance\n",
        "    :param n_epochs: number of epochs to train on\n",
        "    :param dataloader_train: train dataloader\n",
        "    :param dataloader_dev: dev dataloader\n",
        "    :return: loss and accuracy during training\n",
        "    \"\"\"\n",
        "    # Optimizer (ADAM is a fancy version of SGD)\n",
        "    optimizer = Adam(model.parameters(), lr=0.0001)\n",
        "\n",
        "    # Record\n",
        "    metrics = {'loss': {'train': [], 'dev': []}, 'accuracy': {'train': [], 'dev': []}}\n",
        "\n",
        "    # Move model to device\n",
        "    model.to(DEVICE)\n",
        "\n",
        "    for _ in tqdm(range(n_epochs)):\n",
        "        # Train\n",
        "        model.train()\n",
        "        total_loss = 0\n",
        "        correct_train = 0\n",
        "        total_train = 0\n",
        "\n",
        "        for words, tags in dataloader_train:\n",
        "            optimizer.zero_grad()\n",
        "            outputs = model(words)\n",
        "            # ignore the padded tokens with custom weight\n",
        "            mask = words != PAD_TOKEN\n",
        "            weight = mask.float().unsqueeze(-1).expand_as(outputs)\n",
        "            loss = nn.functional.binary_cross_entropy(outputs, tags, weight=weight)\n",
        "            loss.backward()\n",
        "            optimizer.step()\n",
        "            total_loss += loss.item()\n",
        "\n",
        "            # calculate accuracy only on non-padded tokens\n",
        "            tags = th.argmax(tags, dim=2)\n",
        "            predicted = th.argmax(outputs, 2)\n",
        "            correct_train += th.sum((predicted == tags) & mask).item()\n",
        "            total_train += th.sum(mask).item()\n",
        "\n",
        "        total = len(dataloader_train)\n",
        "        metrics['loss']['train'].append(total_loss / total)\n",
        "        metrics['accuracy']['train'].append(correct_train / total_train)\n",
        "\n",
        "        # Evaluate\n",
        "        model.eval()\n",
        "        total_loss = 0\n",
        "        correct_dev = 0\n",
        "        total_dev = 0\n",
        "\n",
        "        for words, tags in dataloader_dev:\n",
        "            outputs = model(words)\n",
        "            mask = words != PAD_TOKEN\n",
        "            weight = mask.float().unsqueeze(-1).expand_as(outputs)\n",
        "            loss = nn.functional.binary_cross_entropy(outputs, tags, weight=weight)\n",
        "            total_loss += loss.item()\n",
        "            total += 1\n",
        "\n",
        "            # calculate accuracy only on non-padded tokens\n",
        "            tags = th.argmax(tags, dim=2)\n",
        "            predicted = th.argmax(outputs, 2)\n",
        "            correct_dev += th.sum((predicted == tags) & mask).item()\n",
        "            total_dev += th.sum(mask).item()\n",
        "\n",
        "        total = len(dataloader_dev)\n",
        "        metrics['loss']['dev'].append(total_loss / total)\n",
        "        metrics['accuracy']['dev'].append(correct_dev / total_dev)\n",
        "\n",
        "    return metrics"
      ]
    },
    {
      "cell_type": "code",
      "execution_count": 17,
      "metadata": {},
      "outputs": [
        {
          "name": "stderr",
          "output_type": "stream",
          "text": [
            "100%|██████████| 5/5 [03:34<00:00, 42.85s/it]\n"
          ]
        },
        {
          "data": {
            "text/plain": [
              "{'loss': {'train': [0.06516261703588745,\n",
              "   0.04719181558625265,\n",
              "   0.039195688542994586,\n",
              "   0.03395224911245433,\n",
              "   0.029503706148402257],\n",
              "  'dev': [0.06040018401108682,\n",
              "   0.0501132495701313,\n",
              "   0.044486163882538676,\n",
              "   0.041315778507851064,\n",
              "   0.039292638073675334]},\n",
              " 'accuracy': {'train': [0.7872362869198313,\n",
              "   0.7910337552742616,\n",
              "   0.8119549929676512,\n",
              "   0.8278832630098453,\n",
              "   0.8473628691983123],\n",
              "  'dev': [0.7849353284301294,\n",
              "   0.7966015724067969,\n",
              "   0.8171443063657113,\n",
              "   0.826528024346944,\n",
              "   0.8397159523205681]}}"
            ]
          },
          "execution_count": 17,
          "metadata": {},
          "output_type": "execute_result"
        }
      ],
      "source": [
        "metrics = train_loop(model, n_epochs=5, dataloader_train=dl_train, dataloader_dev=dl_dev)\n",
        "metrics\n",
        "\n"
      ]
    },
    {
      "cell_type": "markdown",
      "metadata": {
        "id": "T9C9su31_r7F"
      },
      "source": [
        "<br><br><br><br><br><br>"
      ]
    },
    {
      "cell_type": "markdown",
      "metadata": {
        "id": "OqSMEZDK9OPY"
      },
      "source": [
        "# Part 3 - Evaluation"
      ]
    },
    {
      "cell_type": "markdown",
      "metadata": {
        "id": "baN1c_B7lTjb"
      },
      "source": [
        "\n",
        "## Step 1: Evaluation Function\n",
        "\n",
        "Write an evaluation loop for a trained model using the dev and test datasets. This function will print the `Recall`, `Precision`, and `F1` scores and plot a `Confusion Matrix`.\n",
        "\n",
        "Perform this evaluation twice:\n",
        "1. For all labels (7 labels in total).\n",
        "2. For all labels except \"O\" (6 labels in total)."
      ]
    },
    {
      "cell_type": "markdown",
      "metadata": {
        "id": "K6MhtYgh7hDO"
      },
      "source": [
        "## Metrics and Display\n",
        "\n",
        "### Metrics\n",
        "- **Recall**: True Positive Rate (TPR), also known as Recall.\n",
        "- **Precision**: The opposite of False Positive Rate (FPR), also known as Precision.\n",
        "- **F1 Score**: The harmonic mean of Precision and Recall.\n",
        "\n",
        "*Note*: For all these metrics, use **weighted** averaging:\n",
        "Calculate metrics for each label, and find their average weighted by support. Refer to the [sklearn documentation](https://scikit-learn.org/stable/modules/generated/sklearn.metrics.precision_recall_fscore_support.html#sklearn.metrics.precision_recall_fscore_support) for more details.\n",
        "\n",
        "### Display\n",
        "1. Print the `Recall`, `Precision`, and `F1` scores in a tabulated format.\n",
        "2. Display a `Confusion Matrix` plot:\n",
        "   - Rows represent the predicted labels.\n",
        "   - Columns represent the true labels.\n",
        "   - Include a title for the plot, axis names, and the names of the tags on the X-axis."
      ]
    },
    {
      "cell_type": "code",
      "execution_count": 34,
      "metadata": {
        "id": "iyQAjGaqmd8U"
      },
      "outputs": [
        {
          "name": "stdout",
          "output_type": "stream",
          "text": [
            "Classification Report for Dev\n",
            "              precision    recall  f1-score   support\n",
            "\n",
            "       B-ORG       0.42      0.76      0.54       168\n",
            "           O       0.95      0.96      0.95      3096\n",
            "       B-LOC       0.88      0.64      0.74       183\n",
            "       I-LOC       0.70      0.30      0.42        23\n",
            "       B-PER       0.76      0.53      0.63       200\n",
            "       I-PER       0.91      0.56      0.69       157\n",
            "       I-ORG       0.45      0.51      0.48       116\n",
            "\n",
            "    accuracy                           0.88      3943\n",
            "   macro avg       0.72      0.61      0.64      3943\n",
            "weighted avg       0.89      0.88      0.88      3943\n",
            "\n"
          ]
        },
        {
          "data": {
            "image/png": "[encoded data removed]",
            "text/plain": [
              "<Figure size 1000x1000 with 2 Axes>"
            ]
          },
          "metadata": {},
          "output_type": "display_data"
        },
        {
          "name": "stdout",
          "output_type": "stream",
          "text": [
            "Classification Report for Dev without O\n",
            "              precision    recall  f1-score   support\n",
            "\n",
            "       B-ORG       0.55      0.76      0.64       168\n",
            "       B-LOC       0.95      0.64      0.76       183\n",
            "       I-LOC       0.70      0.30      0.42        23\n",
            "       B-PER       0.88      0.53      0.66       200\n",
            "       I-PER       0.94      0.56      0.70       157\n",
            "       I-ORG       0.58      0.51      0.54       116\n",
            "\n",
            "   micro avg       0.74      0.60      0.66       847\n",
            "   macro avg       0.77      0.55      0.62       847\n",
            "weighted avg       0.79      0.60      0.66       847\n",
            "\n"
          ]
        },
        {
          "name": "stderr",
          "output_type": "stream",
          "text": [
            "/Users/bensa/miniconda3/envs/NLP/lib/python3.10/site-packages/sklearn/metrics/_classification.py:1509: UndefinedMetricWarning: Recall is ill-defined and being set to 0.0 in labels with no true samples. Use `zero_division` parameter to control this behavior.\n",
            "  _warn_prf(average, modifier, f\"{metric.capitalize()} is\", len(result))\n"
          ]
        },
        {
          "data": {
            "image/png": "[encoded data removed]",
            "text/plain": [
              "<Figure size 1000x1000 with 2 Axes>"
            ]
          },
          "metadata": {},
          "output_type": "display_data"
        },
        {
          "data": {
            "text/plain": [
              "{'RECALL': 0.8945263664843766,\n",
              " 'PRECISION': 0.8805478062389044,\n",
              " 'F1': 0.8814536132836998,\n",
              " 'RECALL_WO_O': 0.7939604702567542,\n",
              " 'PRECISION_WO_O': 0.5950413223140496,\n",
              " 'F1_WO_O': 0.6633994551118797}"
            ]
          },
          "execution_count": 34,
          "metadata": {},
          "output_type": "execute_result"
        }
      ],
      "source": [
        "def evaluate(model: NERNet, title: str, dataloader: DataLoader, vocab: Vocab):\n",
        "    \"\"\"\n",
        "    Evaluate a trained model on the given dataset.\n",
        "    :param model: model instance\n",
        "    :param title: title for the plot\n",
        "    :param dataloader: dataloader\n",
        "    :param vocab: Vocab instance\n",
        "    :return: Dictionary of evaluation results\n",
        "    \"\"\"\n",
        "    results = {}\n",
        "    model.eval()\n",
        "    y_true = []\n",
        "    y_pred = []\n",
        "\n",
        "    for words, tags in dataloader:\n",
        "        outputs = model(words)\n",
        "        _, predicted = th.max(outputs, 2)\n",
        "        mask = words != PAD_TOKEN\n",
        "        y_true.extend(th.argmax(tags, 2)[mask].tolist())\n",
        "        y_pred.extend(predicted[mask].tolist())\n",
        "\n",
        "    # print classification report with O\n",
        "    print(f\"Classification Report for {title}\")\n",
        "    print(classification_report(y_true, y_pred, target_names=vocab.id2tag.values()))\n",
        "    recall, precision, f1, _ = precision_recall_fscore_support(y_true, y_pred, average='weighted')\n",
        "\n",
        "    # Confusion Matrix\n",
        "    cm = confusion_matrix(y_true, y_pred)\n",
        "    plt.figure(figsize=(10, 10))\n",
        "    sns.heatmap(cm.T, annot=True, fmt='d', xticklabels=vocab.id2tag.values(), yticklabels=vocab.id2tag.values())\n",
        "    plt.title(f\"Confusion Matrix for {title}\")\n",
        "    plt.xlabel(\"True\")\n",
        "    plt.ylabel(\"Predicted\")\n",
        "    plt.show()\n",
        "\n",
        "    # classification report without O\n",
        "    # mask away O tags that appear in the true labels\n",
        "    y_true_wo_o, y_pred_wo_o = zip(*[(t, p) for t, p in zip(y_true, y_pred) if vocab.id2tag[t] != 'O'])\n",
        "    print(f\"Classification Report for {title} without O\")\n",
        "    print(classification_report(y_true_wo_o, y_pred_wo_o, labels=[i for i in range(len(vocab.id2tag)) if vocab.id2tag[i] != 'O'], target_names=[tag for tag in vocab.id2tag.values() if tag != 'O']))\n",
        "    recall_wo_o, precision_wo_o, f1_wo_o, _ = precision_recall_fscore_support(y_true_wo_o, y_pred_wo_o, average='weighted')\n",
        "\n",
        "    # Confusion Matrix without O\n",
        "    cm = confusion_matrix(y_true_wo_o, y_pred_wo_o)\n",
        "    plt.figure(figsize=(10, 10))\n",
        "    sns.heatmap(cm.T, annot=True, fmt='d', xticklabels=vocab.id2tag.values(), yticklabels=vocab.id2tag.values())\n",
        "    plt.title(f\"Confusion Matrix for {title} without O\")\n",
        "    plt.xlabel(\"True\")\n",
        "    plt.ylabel(\"Predicted\")\n",
        "    plt.show()\n",
        "\n",
        "    results['RECALL'] = recall\n",
        "    results['PRECISION'] = precision\n",
        "    results['F1'] = f1\n",
        "    results['RECALL_WO_O'] = recall_wo_o\n",
        "    results['PRECISION_WO_O'] = precision_wo_o\n",
        "    results['F1_WO_O'] = f1_wo_o    \n",
        "\n",
        "    return results\n",
        "\n",
        "evaluate(model, \"Dev\", dl_dev, vocab)"
      ]
    },
    {
      "cell_type": "markdown",
      "metadata": {
        "id": "trn5-50FyGoF"
      },
      "source": [
        "## Step 2: Train & Evaluate on Dev Set"
      ]
    },
    {
      "cell_type": "markdown",
      "metadata": {
        "id": "LQSXqWNOmqG4"
      },
      "source": [
        "Train and evaluate (on the dev set) a few models, all with `embedding_size=300` and `N_EPOCHS=5` (for fairness and computational reasons), and with the following hyper parameters (you may use that as captions for the models as well):\n",
        "\n",
        "- Model 1: (hidden_size: 500, n_layers: 1, directions: 1)\n",
        "- Model 2: (hidden_size: 500, n_layers: 2, directions: 1)\n",
        "- Model 3: (hidden_size: 500, n_layers: 3, directions: 1)\n",
        "- Model 4: (hidden_size: 500, n_layers: 1, directions: 2)\n",
        "- Model 5: (hidden_size: 500, n_layers: 2, directions: 2)\n",
        "- Model 6: (hidden_size: 500, n_layers: 3, directions: 2)\n",
        "- Model 7: (hidden_size: 800, n_layers: 1, directions: 2)\n",
        "- Model 8: (hidden_size: 800, n_layers: 2, directions: 2)\n",
        "- Model 9: (hidden_size: 800, n_layers: 3, directions: 2)\n",
        "\n",
        "\n"
      ]
    },
    {
      "cell_type": "code",
      "execution_count": 23,
      "metadata": {
        "id": "U3RcWmNAsoTj"
      },
      "outputs": [],
      "source": [
        "N_EPOCHS = 5\n",
        "EMB_DIM = 300"
      ]
    },
    {
      "cell_type": "markdown",
      "metadata": {
        "id": "OCaaeKV2CZF-"
      },
      "source": [
        "Here is an example (random numbers) of the display of the results):"
      ]
    },
    {
      "cell_type": "code",
      "execution_count": 20,
      "metadata": {
        "colab": {
          "base_uri": "https://localhost:8080/"
        },
        "id": "Im49dRJeCjdv",
        "outputId": "ab1ac65b-bd21-441a-9058-d4704d66daef"
      },
      "outputs": [
        {
          "name": "stdout",
          "output_type": "stream",
          "text": [
            "+----+-----------+---------------+------------+--------------+----------+-------------+--------+---------------+------------------+-----------+\n",
            "|    | N_MODEL   |   HIDDEN_SIZE |   N_LAYERS |   DIRECTIONS |   RECALL |   PERCISION |     F1 |   RECALL_WO_O |   PERCISION_WO_O |   F1_WO_O |\n",
            "|----+-----------+---------------+------------+--------------+----------+-------------+--------+---------------+------------------+-----------|\n",
            "|  0 | model_1   |        0.9507 |     0.7320 |       0.5987 |   0.1560 |      0.1560 | 0.0581 |        0.8662 |           0.6011 |    0.7081 |\n",
            "|  1 | model_2   |        0.9699 |     0.8324 |       0.2123 |   0.1818 |      0.1834 | 0.3042 |        0.5248 |           0.4319 |    0.2912 |\n",
            "|  2 | model_3   |        0.1395 |     0.2921 |       0.3664 |   0.4561 |      0.7852 | 0.1997 |        0.5142 |           0.5924 |    0.0465 |\n",
            "|  3 | model_4   |        0.1705 |     0.0651 |       0.9489 |   0.9656 |      0.8084 | 0.3046 |        0.0977 |           0.6842 |    0.4402 |\n",
            "|  4 | model_5   |        0.4952 |     0.0344 |       0.9093 |   0.2588 |      0.6625 | 0.3117 |        0.5201 |           0.5467 |    0.1849 |\n",
            "|  5 | model_6   |        0.7751 |     0.9395 |       0.8948 |   0.5979 |      0.9219 | 0.0885 |        0.1960 |           0.0452 |    0.3253 |\n",
            "|  6 | model_7   |        0.2713 |     0.8287 |       0.3568 |   0.2809 |      0.5427 | 0.1409 |        0.8022 |           0.0746 |    0.9869 |\n",
            "|  7 | model_8   |        0.1987 |     0.0055 |       0.8155 |   0.7069 |      0.7290 | 0.7713 |        0.0740 |           0.3585 |    0.1159 |\n",
            "|  8 | model_9   |        0.6233 |     0.3309 |       0.0636 |   0.3110 |      0.3252 | 0.7296 |        0.6376 |           0.8872 |    0.4722 |\n",
            "+----+-----------+---------------+------------+--------------+----------+-------------+--------+---------------+------------------+-----------+\n"
          ]
        }
      ],
      "source": [
        "# Example:\n",
        "results_acc = np.random.rand(9, 10)\n",
        "columns = ['N_MODEL','HIDDEN_SIZE','N_LAYERS','DIRECTIONS','RECALL','PERCISION','F1','RECALL_WO_O','PERCISION_WO_O','F1_WO_O']\n",
        "df = pd.DataFrame(results_acc, columns=columns)\n",
        "df.N_MODEL = [f'model_{n}' for n in range(1,10)]\n",
        "print(tabulate(df, headers='keys', tablefmt='psql',floatfmt=\".4f\"))"
      ]
    },
    {
      "cell_type": "code",
      "execution_count": null,
      "metadata": {
        "colab": {
          "base_uri": "https://localhost:8080/",
          "height": 1000
        },
        "id": "MWJREQ236dzV",
        "outputId": "324df2e8-f677-4235-fb61-50724ddf0ef5"
      },
      "outputs": [],
      "source": [
        "# Define models with their hyperparameters\n",
        "models = {\n",
        "  'Model1': {'embedding_size': EMB_DIM, 'hidden_size': 500, 'n_layers': 1, 'directions': 1},\n",
        "  'Model2': {'embedding_size': EMB_DIM, 'hidden_size': 500, 'n_layers': 2, 'directions': 1},\n",
        "  'Model3': {'embedding_size': EMB_DIM, 'hidden_size': 500, 'n_layers': 3, 'directions': 1},\n",
        "  'Model4': {'embedding_size': EMB_DIM, 'hidden_size': 500, 'n_layers': 1, 'directions': 2},\n",
        "  'Model5': {'embedding_size': EMB_DIM, 'hidden_size': 500, 'n_layers': 2, 'directions': 2},\n",
        "  'Model6': {'embedding_size': EMB_DIM, 'hidden_size': 500, 'n_layers': 3, 'directions': 2},\n",
        "  'Model7': {'embedding_size': EMB_DIM, 'hidden_size': 800, 'n_layers': 1, 'directions': 2},\n",
        "  'Model8': {'embedding_size': EMB_DIM, 'hidden_size': 800, 'n_layers': 2, 'directions': 2},\n",
        "  'Model9': {'embedding_size': EMB_DIM, 'hidden_size': 800, 'n_layers': 3, 'directions': 2},\n",
        "}\n",
        "trained_models = {}\n",
        "\n",
        "# Train and evaluate models\n",
        "results_dev = []\n",
        "for model_name, hyperparams in models.items():\n",
        "    model = NERNet(vocab.n_words, output_size=vocab.n_tags, **hyperparams)\n",
        "    model.to(DEVICE)\n",
        "    trained_models[model_name] = model\n",
        "    metrics = train_loop(model, n_epochs=N_EPOCHS, dataloader_train=dl_train, dataloader_dev=dl_dev)\n",
        "    results = evaluate(model, model_name, dl_dev, vocab)\n",
        "    results_dev.append({**{'N_MODEL': model_name}, **hyperparams, **results})\n",
        "\n",
        "# Print results in tabulated format\n",
        "print(tabulate(results_dev, headers='keys', tablefmt='psql', floatfmt=\".4f\"))"
      ]
    },
    {
      "cell_type": "markdown",
      "metadata": {
        "id": "U4o5joZgA1YE"
      },
      "source": [
        "## Step 3: Evaluate on Test Set\n",
        "Evaluate your models on the test set and save the results as a CSV. Add this file to your repo for submission."
      ]
    },
    {
      "cell_type": "code",
      "execution_count": null,
      "metadata": {
        "colab": {
          "base_uri": "https://localhost:8080/",
          "height": 1000
        },
        "id": "gTNmBU6hycZl",
        "outputId": "927f1a50-7c13-4239-efa3-44010dc32eb1"
      },
      "outputs": [],
      "source": [
        "results_test = []\n",
        "file_name = \"NER_results.csv\"\n",
        "\n",
        "for model_name, hyperparams in models.items():\n",
        "    model = trained_models[model_name]\n",
        "    results = evaluate(model, model_name, dl_test, vocab)\n",
        "    results_test.append({**{'N_MODEL': model_name}, **hyperparams, **results})  \n",
        "\n",
        "print(tabulate(results_test, headers='keys', tablefmt='psql',floatfmt=\".4f\"))\n",
        "\n",
        "# Save results to a CSV file\n",
        "df = pd.DataFrame(results_test, columns=results_test[0].keys())\n",
        "df.to_csv(file_name, index=False)"
      ]
    },
    {
      "cell_type": "markdown",
      "metadata": {
        "id": "8Y4U4eHmShw8"
      },
      "source": [
        "## Step 4 - best model\n",
        "Decide which model performs the best, write its configuration, train it for 5 more epochs and evaluate it on the test set."
      ]
    },
    {
      "cell_type": "code",
      "execution_count": null,
      "metadata": {
        "colab": {
          "base_uri": "https://localhost:8080/",
          "height": 1000
        },
        "id": "M3TnKYqmSvds",
        "outputId": "96a3fd41-c10c-466c-b685-a37896f68c8a"
      },
      "outputs": [],
      "source": [
        "best_model_cfg = {'embedding_size':EMB_DIM, 'hidden_size': 500, 'n_layers': 2, 'directions': 2}\n",
        "\n",
        "# Train the best model\n",
        "model = NERNet(vocab.n_words, output_size=vocab.n_tags, **best_model_cfg)\n",
        "model.to(DEVICE)\n",
        "metrics = train_loop(model, n_epochs=N_EPOCHS*2, dataloader_train=dl_train, dataloader_dev=dl_dev)"
      ]
    },
    {
      "cell_type": "code",
      "execution_count": null,
      "metadata": {},
      "outputs": [],
      "source": [
        "# Evaluate the best model\n",
        "results = evaluate(model, \"Best Model\", dl_test, vocab)\n",
        "print(results)"
      ]
    },
    {
      "cell_type": "markdown",
      "metadata": {
        "id": "rsCfk8caB3iU"
      },
      "source": [
        "<br><br><br><br><br>"
      ]
    },
    {
      "cell_type": "markdown",
      "metadata": {
        "id": "nF_jrCkpCVUD"
      },
      "source": [
        "# Part 4 - Pretrained Embeddings"
      ]
    },
    {
      "cell_type": "markdown",
      "metadata": {
        "id": "UM74r0_8nk5s"
      },
      "source": [
        "\n",
        "\n",
        "To prepare for this task, please read [this discussion](https://discuss.pytorch.org/t/can-we-use-pre-trained-word-embeddings-for-weight-initialization-in-nn-embedding/1222).\n",
        "\n",
        "**TIP**: Ensure that the vectors are aligned with the IDs in your vocabulary. In other words, make sure that the word with ID 0 corresponds to the first vector in the GloVe matrix used to initialize `nn.Embedding`.\n",
        "\n"
      ]
    },
    {
      "cell_type": "markdown",
      "metadata": {
        "id": "A6rrSb-bFoTa"
      },
      "source": [
        "## Step 1: Get Data"
      ]
    },
    {
      "cell_type": "markdown",
      "metadata": {
        "id": "dscQwqxvBP5-"
      },
      "source": [
        "\n",
        "\n",
        "Download the GloVe embeddings from [this link](https://nlp.stanford.edu/projects/glove/). Use the 300-dimensional vectors from `glove.6B.zip`.\n",
        "\n"
      ]
    },
    {
      "cell_type": "code",
      "execution_count": null,
      "metadata": {
        "colab": {
          "base_uri": "https://localhost:8080/"
        },
        "id": "gbY3bBiH_9E8",
        "outputId": "60134955-2398-4cce-d3bd-e67a784a13cb"
      },
      "outputs": [
        {
          "name": "stdout",
          "output_type": "stream",
          "text": [
            "^C\n",
            "unzip:  cannot find or open glove.6B.zip, glove.6B.zip.zip or glove.6B.zip.ZIP.\n"
          ]
        }
      ],
      "source": [
        "import requests\n",
        "import zipfile\n",
        "import os\n",
        "\n",
        "# URL of the GloVe embeddings\n",
        "url = 'https://nlp.stanford.edu/data/glove.6B.zip'\n",
        "local_zip_path = './glove.6B.zip'\n",
        "\n",
        "if not os.path.exists('./glove.6B'):\n",
        "    # Download the file\n",
        "    response = requests.get(url)\n",
        "    with open(local_zip_path, 'wb') as file:\n",
        "        file.write(response.content)\n",
        "\n",
        "    # Extract the zip file\n",
        "    with zipfile.ZipFile(local_zip_path, 'r') as zip_ref:\n",
        "        zip_ref.extractall('./glove.6B')\n",
        "\n",
        "    # Clean up the zip file\n",
        "    os.remove(local_zip_path)"
      ]
    },
    {
      "cell_type": "markdown",
      "metadata": {
        "id": "eBLEK9R3Fxye"
      },
      "source": [
        "## Step 2: Inject Embeddings"
      ]
    },
    {
      "cell_type": "markdown",
      "metadata": {
        "id": "xH8ybhqY_8US"
      },
      "source": [
        "Then intialize the `nn.Embedding` module in your `NERNet` with these embeddings, so that you can start your training with pre-trained vectors."
      ]
    },
    {
      "cell_type": "code",
      "execution_count": null,
      "metadata": {
        "id": "OXSEIjfe9DSy"
      },
      "outputs": [],
      "source": [
        "def load_glove_model(File):\n",
        "    print(\"Loading Glove Model\")\n",
        "    glove_model = {}\n",
        "    with open(File,'r', encoding='utf-8') as f:\n",
        "        for line in f:\n",
        "            split_line = line.split()\n",
        "            word = split_line[0]\n",
        "            embedding = np.array(split_line[1:], dtype=np.float64)\n",
        "            glove_model[word] = embedding\n",
        "    print(f\"{len(glove_model)} words loaded!\")\n",
        "    return glove_model\n",
        "\n",
        "def get_emb_matrix(filepath: str, vocab: Vocab) -> np.ndarray:\n",
        "    emb_matrix = np.zeros((vocab.n_words, EMB_DIM))\n",
        "    # load the glove matrix\n",
        "    glove_model = load_glove_model(filepath)\n",
        "    emb_matrix = np.zeros((vocab.n_words, EMB_DIM))\n",
        "    # Fill the embedding matrix with GloVe vectors or random values\n",
        "    for word, idx in vocab.word2id.items():\n",
        "            if word in glove_model:\n",
        "                emb_matrix[idx] = glove_model[word]\n",
        "            else:\n",
        "                # Initialize OOV words with random vectors\n",
        "                emb_matrix[idx] = np.random.normal(scale=0.6, size=(EMB_DIM,))\n",
        "    return emb_matrix"
      ]
    },
    {
      "cell_type": "code",
      "execution_count": null,
      "metadata": {
        "id": "I56mqREnVRey"
      },
      "outputs": [],
      "source": [
        "def initialize_from_pretrained_emb(model: NERNet, emb_matrix: np.ndarray):\n",
        "    \"\"\"\n",
        "    Inject the pretrained embeddings into the model.\n",
        "    :param model: model instance\n",
        "    :param emb_matrix: pretrained embeddings\n",
        "    \"\"\"\n",
        "    model.embedding.weight.data.copy_(th.tensor(emb_matrix, dtype=th.float32))"
      ]
    },
    {
      "cell_type": "code",
      "execution_count": null,
      "metadata": {
        "id": "lf0byP9y_9jG"
      },
      "outputs": [],
      "source": [
        "# Read embeddings and inject them to a model\n",
        "emb_file = './glove.6B/glove.6B.300d.txt'\n",
        "emb_matrix = get_emb_matrix(emb_file, vocab)\n",
        "ner_glove = NERNet(input_size=vocab.n_words, embedding_size=EMB_DIM, hidden_size=500, output_size=vocab.n_tags, n_layers=1, directions=1)\n",
        "initialize_from_pretrained_emb(ner_glove, emb_matrix)\n",
        "ner_glove.to(DEVICE)"
      ]
    },
    {
      "cell_type": "code",
      "execution_count": null,
      "metadata": {},
      "outputs": [],
      "source": [
        "# Train the model\n",
        "metrics = train_loop(ner_glove, n_epochs=N_EPOCHS, dataloader_train=dl_train, dataloader_dev=dl_dev)\n",
        "\n",
        "# Evaluate the model\n",
        "results = evaluate(ner_glove, \"GloVe Model\", dl_test, vocab)\n",
        "print(results)"
      ]
    },
    {
      "cell_type": "markdown",
      "metadata": {
        "id": "JElogtlHF4DN"
      },
      "source": [
        "## Step 3: Evaluate on Test Set"
      ]
    },
    {
      "cell_type": "markdown",
      "metadata": {
        "id": "Obm_WN4_ALmM"
      },
      "source": [
        "Same as the evaluation process before, please display:\n",
        "\n",
        "1. Print a `RECALL-PERCISION-F1` scores in a tabulate format.\n",
        "2. Display a `confusion matrix` plot: where the predicted labels are the rows, and the true labels are the columns.\n",
        "\n",
        "Make sure to use the title for the plot, axis names, and the names of the tags on the X-axis.\n",
        "\n",
        "Make sure to download and upload this CSV as well."
      ]
    },
    {
      "cell_type": "code",
      "execution_count": null,
      "metadata": {
        "id": "c7Xw3h6mAhRw"
      },
      "outputs": [],
      "source": [
        "file_name = \"NER_results_glove.csv\"\n",
        "\n",
        "trained_models = {}\n",
        "\n",
        "# Train and evaluate models\n",
        "results_test = []\n",
        "for model_name, hyperparams in models.items():\n",
        "    model = NERNet(vocab.n_words, output_size=vocab.n_tags, **hyperparams)\n",
        "    initialize_from_pretrained_emb(model, emb_matrix)\n",
        "    model.to(DEVICE)\n",
        "    trained_models[model_name] = model\n",
        "    metrics = train_loop(model, n_epochs=N_EPOCHS, dataloader_train=dl_train, dataloader_dev=dl_dev)\n",
        "    results = evaluate(model, model_name, dl_test, vocab)\n",
        "    results_test.append({**{'N_MODEL': model_name}, **hyperparams, **results})\n",
        "\n",
        "# Print results in tabulated format\n",
        "print(tabulate(results_test, headers='keys', tablefmt='psql', floatfmt=\".4f\"))\n",
        "\n",
        "# Save results to a CSV file\n",
        "df = pd.DataFrame(results_test, columns=results_test[0].keys())\n",
        "df.to_csv(file_name, index=False)"
      ]
    },
    {
      "cell_type": "markdown",
      "metadata": {
        "id": "c5XrhAdNXShg"
      },
      "source": [
        "## Step 4 - best model\n",
        "Decide which model performs the best, write its configuration, train it for 5 more epochs and evaluate it on the test set."
      ]
    },
    {
      "cell_type": "code",
      "execution_count": null,
      "metadata": {
        "id": "QHI_ECNwXR-7"
      },
      "outputs": [],
      "source": [
        "best_model_glove_cfg = {'embedding_size':EMB_DIM, 'hidden_size': 800, 'n_layers': 3, 'directions': 2}\n",
        "\n",
        "# Train the best model\n",
        "model = NERNet(vocab.n_words, output_size=vocab.n_tags, **best_model_glove_cfg)\n",
        "initialize_from_pretrained_emb(model, emb_matrix)\n",
        "model.to(DEVICE)\n",
        "metrics = train_loop(model, n_epochs=N_EPOCHS*2, dataloader_train=dl_train, dataloader_dev=dl_dev)\n",
        "\n",
        "# Evaluate the best model\n",
        "results = evaluate(model, \"Best GloVe Model\", dl_test, vocab)\n",
        "print(results)"
      ]
    },
    {
      "cell_type": "markdown",
      "metadata": {
        "id": "8cUiLd_gCRO_"
      },
      "source": [
        "# Testing\n",
        "Copy the content of the **tests.py** file from the repo and paste below. This will create the results.json file and download it to your machine."
      ]
    },
    {
      "cell_type": "code",
      "execution_count": 29,
      "metadata": {
        "id": "UMVrbY0SCRja"
      },
      "outputs": [
        {
          "name": "stderr",
          "output_type": "stream",
          "text": [
            "100%|██████████| 10/10 [12:26<00:00, 74.69s/it]\n"
          ]
        },
        {
          "name": "stdout",
          "output_type": "stream",
          "text": [
            "Classification Report for \n",
            "              precision    recall  f1-score   support\n",
            "\n",
            "       B-ORG       0.40      0.72      0.51       350\n",
            "           O       0.94      0.95      0.95      6567\n",
            "       B-LOC       0.88      0.65      0.75       343\n",
            "       I-LOC       0.96      0.51      0.67        53\n",
            "       B-PER       0.80      0.51      0.62       434\n",
            "       I-PER       0.88      0.59      0.71       296\n",
            "       I-ORG       0.43      0.49      0.46       200\n",
            "\n",
            "    accuracy                           0.88      8243\n",
            "   macro avg       0.76      0.63      0.67      8243\n",
            "weighted avg       0.89      0.88      0.88      8243\n",
            "\n"
          ]
        },
        {
          "data": {
            "image/png": "[encoded data removed]",
            "text/plain": [
              "<Figure size 1000x1000 with 2 Axes>"
            ]
          },
          "metadata": {},
          "output_type": "display_data"
        },
        {
          "name": "stdout",
          "output_type": "stream",
          "text": [
            "Classification Report for  without O\n",
            "              precision    recall  f1-score   support\n",
            "\n",
            "       B-ORG       0.00      0.00      0.00         0\n",
            "       B-LOC       0.95      0.65      0.77       343\n",
            "       I-LOC       1.00      0.51      0.68        53\n",
            "       B-PER       0.91      0.51      0.65       434\n",
            "       I-PER       0.98      0.59      0.74       296\n",
            "       I-ORG       0.60      0.49      0.54       200\n",
            "\n",
            "   micro avg       0.61      0.56      0.58      1326\n",
            "   macro avg       0.74      0.46      0.56      1326\n",
            "weighted avg       0.89      0.56      0.69      1326\n",
            "\n"
          ]
        },
        {
          "name": "stderr",
          "output_type": "stream",
          "text": [
            "/Users/bensa/miniconda3/envs/NLP/lib/python3.10/site-packages/sklearn/metrics/_classification.py:1509: UndefinedMetricWarning: Recall is ill-defined and being set to 0.0 in labels with no true samples. Use `zero_division` parameter to control this behavior.\n",
            "  _warn_prf(average, modifier, f\"{metric.capitalize()} is\", len(result))\n",
            "/Users/bensa/miniconda3/envs/NLP/lib/python3.10/site-packages/sklearn/metrics/_classification.py:1509: UndefinedMetricWarning: Recall is ill-defined and being set to 0.0 in labels with no true samples. Use `zero_division` parameter to control this behavior.\n",
            "  _warn_prf(average, modifier, f\"{metric.capitalize()} is\", len(result))\n",
            "/Users/bensa/miniconda3/envs/NLP/lib/python3.10/site-packages/sklearn/metrics/_classification.py:1509: UndefinedMetricWarning: Recall is ill-defined and being set to 0.0 in labels with no true samples. Use `zero_division` parameter to control this behavior.\n",
            "  _warn_prf(average, modifier, f\"{metric.capitalize()} is\", len(result))\n",
            "/Users/bensa/miniconda3/envs/NLP/lib/python3.10/site-packages/sklearn/metrics/_classification.py:1509: UndefinedMetricWarning: Recall is ill-defined and being set to 0.0 in labels with no true samples. Use `zero_division` parameter to control this behavior.\n",
            "  _warn_prf(average, modifier, f\"{metric.capitalize()} is\", len(result))\n"
          ]
        },
        {
          "data": {
            "image/png": "[encoded data removed]",
            "text/plain": [
              "<Figure size 1000x1000 with 2 Axes>"
            ]
          },
          "metadata": {},
          "output_type": "display_data"
        }
      ],
      "source": [
        "import json\n",
        "\n",
        "train = read_data(\"data/train.txt\")\n",
        "dev = read_data(\"data/dev.txt\")\n",
        "test = read_data(\"data/test.txt\")\n",
        "def test_read_data():\n",
        "    result = {\n",
        "        'lengths': (len(train), len(dev), len(test)),\n",
        "    }\n",
        "    return result\n",
        "\n",
        "vocab = Vocab(train)\n",
        "def test_vocab():\n",
        "    sent = vocab.index_words([\"I\", \"am\", \"Spongebob\"])\n",
        "    return {\n",
        "        'length': vocab.n_words,\n",
        "        'tag2id_length': len(vocab.tag2id),\n",
        "        \"Spongebob\": sent[2]\n",
        "    }\n",
        "\n",
        "train_sequences = prepare_data(train, vocab)\n",
        "dev_sequences = prepare_data(dev, vocab)\n",
        "test_sequences = prepare_data(test, vocab)\n",
        "\n",
        "def test_count_oov():\n",
        "    return {\n",
        "        'dev_oov': count_oov(dev_sequences),\n",
        "        'test_oov': count_oov(test_sequences)\n",
        "    }\n",
        "\n",
        "BATCH_SIZE = 16\n",
        "dl_train = prepare_data_loader(train_sequences, batch_size=BATCH_SIZE)\n",
        "dl_dev = prepare_data_loader(dev_sequences, batch_size=BATCH_SIZE, train=False)\n",
        "dl_test = prepare_data_loader(test_sequences, batch_size=BATCH_SIZE, train=False)\n",
        "\n",
        "def test_prepare_data_loader():\n",
        "    return {\n",
        "        'lengths': (len(dl_train), len(dl_dev), len(dl_test))\n",
        "    }\n",
        "\n",
        "\n",
        "def test_NERNet():\n",
        "    # Extract best model configuration\n",
        "    hidden_size = best_model_cfg['hidden_size']\n",
        "    n_layers = best_model_cfg['n_layers']\n",
        "    directions = best_model_cfg['directions']\n",
        "\n",
        "    # Create model\n",
        "    best_model = NERNet(vocab.n_words, output_size=vocab.n_tags, embedding_size=300, hidden_size=hidden_size, n_layers=n_layers, directions=directions)\n",
        "    best_model.to(DEVICE)\n",
        "\n",
        "    # Train model and evaluate\n",
        "    _ = train_loop(model, n_epochs=10, dataloader_train=dl_train, dataloader_dev=dl_dev)\n",
        "    results = evaluate(model, title=\"\", dataloader=dl_test, vocab=vocab)\n",
        "\n",
        "    return {\n",
        "        'f1': results['F1'],\n",
        "        'f1_wo_o': results['F1_WO_O'],\n",
        "    }\n",
        "    \n",
        "def test_glove():\n",
        "    # Get embeddings\n",
        "    emb_file = 'glove.6B.300d.txt'\n",
        "    emb_matrix = get_emb_matrix(emb_file, vocab)\n",
        "\n",
        "    # Extract best model configuration\n",
        "    hidden_size = best_model_glove_cfg['hidden_size']\n",
        "    n_layers = best_model_glove_cfg['n_layers']\n",
        "    directions = best_model_glove_cfg['directions']\n",
        "\n",
        "    # Create model\n",
        "    best_model = NERNet(vocab.n_words, output_size=vocab.n_tags, embedding_size=300, hidden_size=hidden_size, n_layers=n_layers, directions=directions)\n",
        "    best_model.to(DEVICE)\n",
        "    initialize_from_pretrained_emb(ner_glove, emb_matrix)\n",
        "\n",
        "    # Train model and evaluate\n",
        "    _ = train_loop(model, n_epochs=10, dataloader_train=dl_train, dataloader_dev=dl_dev)\n",
        "    results = evaluate(model, title=\"\", dataloader=dl_test, vocab=vocab)\n",
        "\n",
        "    return {\n",
        "        'f1': results['F1'],\n",
        "        'f1_wo_o': results['F1_WO_O'],\n",
        "    }\n",
        "\n",
        "TESTS = [\n",
        "    test_read_data,\n",
        "    test_vocab,\n",
        "    test_count_oov,\n",
        "    test_prepare_data_loader,\n",
        "    test_NERNet,\n",
        "    test_glove\n",
        "]\n",
        "\n",
        "# Run tests and save results\n",
        "res = {}\n",
        "for test_fn in TESTS:\n",
        "    try:\n",
        "        cur_res = test_fn()\n",
        "        res.update({test_fn.__name__: cur_res})\n",
        "    except Exception as e:\n",
        "        res.update({test_fn.__name__: repr(e)})\n",
        "\n",
        "with open('results.json', 'w') as f:\n",
        "    json.dump(res, f, indent=2)\n",
        "\n",
        "# import json\n",
        "# from google.colab import files\n",
        "\n",
        "# Download the results.json file\n",
        "# files.download('results.json')\n",
        "\n",
        "####################\n"
      ]
    }
  ],
  "metadata": {
    "accelerator": "GPU",
    "colab": {
      "provenance": []
    },
    "kernelspec": {
      "display_name": "Python 3",
      "name": "python3"
    },
    "language_info": {
      "codemirror_mode": {
        "name": "ipython",
        "version": 3
      },
      "file_extension": ".py",
      "mimetype": "text/x-python",
      "name": "python",
      "nbconvert_exporter": "python",
      "pygments_lexer": "ipython3",
      "version": "3.10.14"
    }
  },
  "nbformat": 4,
  "nbformat_minor": 0
}
